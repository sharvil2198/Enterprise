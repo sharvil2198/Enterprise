{
 "cells": [
  {
   "cell_type": "code",
   "execution_count": 1,
   "id": "proud-cheat",
   "metadata": {},
   "outputs": [
    {
     "name": "stdout",
     "output_type": "stream",
     "text": [
      "Value of a:  10\n",
      "Value of b:  5\n",
      "Answer:  5\n"
     ]
    }
   ],
   "source": [
    "a = 10\n",
    "b = 5\n",
    "c = a - b\n",
    "print(\"Value of a: \",a)\n",
    "print(\"Value of b: \",b)\n",
    "print(\"Answer: \",c)"
   ]
  },
  {
   "cell_type": "code",
   "execution_count": null,
   "id": "representative-memorabilia",
   "metadata": {},
   "outputs": [],
   "source": []
  }
 ],
 "metadata": {
  "kernelspec": {
   "display_name": "conda_python3",
   "language": "python",
   "name": "conda_python3"
  },
  "language_info": {
   "codemirror_mode": {
    "name": "ipython",
    "version": 3
   },
   "file_extension": ".py",
   "mimetype": "text/x-python",
   "name": "python",
   "nbconvert_exporter": "python",
   "pygments_lexer": "ipython3",
   "version": "3.6.10"
  }
 },
 "nbformat": 4,
 "nbformat_minor": 5
}
